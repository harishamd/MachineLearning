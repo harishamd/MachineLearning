{
  "nbformat": 4,
  "nbformat_minor": 0,
  "metadata": {
    "colab": {
      "name": "Clustering_ML_used_cars_1301174659 (1).ipynb",
      "provenance": [],
      "collapsed_sections": []
    },
    "kernelspec": {
      "name": "python3",
      "display_name": "Python 3"
    }
  },
  "cells": [
    {
      "cell_type": "markdown",
      "metadata": {
        "id": "7Lb-vFBIAGPh",
        "colab_type": "text"
      },
      "source": [
        "Import Library sesuai dengan yang dibutuhkan berdasarkan data"
      ]
    },
    {
      "cell_type": "code",
      "metadata": {
        "id": "YOO-AF9vrOC3",
        "colab_type": "code",
        "colab": {}
      },
      "source": [
        "import pandas as pd\n",
        "import numpy as np\n",
        "import seaborn as sns\n",
        "import matplotlib.pyplot as plt\n",
        "import csv\n",
        "import os\n",
        "import sys\n",
        "import io\n",
        "from sklearn.cluster import KMeans\n",
        "from sklearn.preprocessing import MinMaxScaler"
      ],
      "execution_count": 0,
      "outputs": []
    },
    {
      "cell_type": "markdown",
      "metadata": {
        "id": "A_8v7x--AQ2z",
        "colab_type": "text"
      },
      "source": [
        "\n",
        "\n",
        "---\n",
        "\n",
        "\n",
        "Import dataset dari file 'used_cars.csv'\n",
        "\n",
        "\n",
        "\n",
        "\n",
        "biasa setiap sambungan terputus maka harus diupload lagi secara manual datasetnya."
      ]
    },
    {
      "cell_type": "code",
      "metadata": {
        "id": "b-BMzLa2r_lk",
        "colab_type": "code",
        "outputId": "3e473d9a-42a9-44b5-80f0-c6f0e7c2580f",
        "colab": {
          "resources": {
            "http://localhost:8080/nbextensions/google.colab/files.js": {
              "data": "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",
              "ok": true,
              "headers": [
                [
                  "content-type",
                  "application/javascript"
                ]
              ],
              "status": 200,
              "status_text": ""
            }
          },
          "base_uri": "https://localhost:8080/",
          "height": 41
        }
      },
      "source": [
        "from google.colab import files\n",
        "uploaded = files.upload()"
      ],
      "execution_count": 0,
      "outputs": [
        {
          "output_type": "display_data",
          "data": {
            "text/html": [
              "\n",
              "     <input type=\"file\" id=\"files-2cc70d90-6f5c-4bdc-84c5-9ff4315d2917\" name=\"files[]\" multiple disabled />\n",
              "     <output id=\"result-2cc70d90-6f5c-4bdc-84c5-9ff4315d2917\">\n",
              "      Upload widget is only available when the cell has been executed in the\n",
              "      current browser session. Please rerun this cell to enable.\n",
              "      </output>\n",
              "      <script src=\"/nbextensions/google.colab/files.js\"></script> "
            ],
            "text/plain": [
              "<IPython.core.display.HTML object>"
            ]
          },
          "metadata": {
            "tags": []
          }
        }
      ]
    },
    {
      "cell_type": "markdown",
      "metadata": {
        "id": "xBS04KRDAj2W",
        "colab_type": "text"
      },
      "source": [
        "\n",
        "\n",
        "---\n",
        "\n",
        "\n",
        "Membaca file dataset 'used_cars.csv'"
      ]
    },
    {
      "cell_type": "code",
      "metadata": {
        "id": "UQxXaGebzTC7",
        "colab_type": "code",
        "colab": {}
      },
      "source": [
        "dataset = pd.read_csv('used_cars.csv')"
      ],
      "execution_count": 0,
      "outputs": []
    },
    {
      "cell_type": "markdown",
      "metadata": {
        "id": "ZHoORGxQA6Zm",
        "colab_type": "text"
      },
      "source": [
        "\n",
        "\n",
        "---\n",
        "\n",
        "\n",
        "Mengambil fitur/kolom yang diperlukan dari dataset tersebut yang akan dipakai selanjutnya"
      ]
    },
    {
      "cell_type": "code",
      "metadata": {
        "id": "xfqJY-GEz4fD",
        "colab_type": "code",
        "outputId": "40dbcc40-49ac-49ae-a3c9-101c656fa1e2",
        "colab": {
          "base_uri": "https://localhost:8080/",
          "height": 195
        }
      },
      "source": [
        "dataset = dataset[['odometer','cylinders','transmission','paint_color','size','condition','fuel','year','model','price','lat']]\n",
        "dataset.head()"
      ],
      "execution_count": 0,
      "outputs": [
        {
          "output_type": "execute_result",
          "data": {
            "text/html": [
              "<div>\n",
              "<style scoped>\n",
              "    .dataframe tbody tr th:only-of-type {\n",
              "        vertical-align: middle;\n",
              "    }\n",
              "\n",
              "    .dataframe tbody tr th {\n",
              "        vertical-align: top;\n",
              "    }\n",
              "\n",
              "    .dataframe thead th {\n",
              "        text-align: right;\n",
              "    }\n",
              "</style>\n",
              "<table border=\"1\" class=\"dataframe\">\n",
              "  <thead>\n",
              "    <tr style=\"text-align: right;\">\n",
              "      <th></th>\n",
              "      <th>odometer</th>\n",
              "      <th>cylinders</th>\n",
              "      <th>transmission</th>\n",
              "      <th>paint_color</th>\n",
              "      <th>size</th>\n",
              "      <th>condition</th>\n",
              "      <th>fuel</th>\n",
              "      <th>year</th>\n",
              "      <th>model</th>\n",
              "      <th>price</th>\n",
              "      <th>lat</th>\n",
              "    </tr>\n",
              "  </thead>\n",
              "  <tbody>\n",
              "    <tr>\n",
              "      <th>0</th>\n",
              "      <td>63500.0</td>\n",
              "      <td>4 cylinders</td>\n",
              "      <td>manual</td>\n",
              "      <td>black</td>\n",
              "      <td>compact</td>\n",
              "      <td>excellent</td>\n",
              "      <td>gas</td>\n",
              "      <td>2012.0</td>\n",
              "      <td>golf r</td>\n",
              "      <td>17899</td>\n",
              "      <td>40.7372</td>\n",
              "    </tr>\n",
              "    <tr>\n",
              "      <th>1</th>\n",
              "      <td>10.0</td>\n",
              "      <td>NaN</td>\n",
              "      <td>automatic</td>\n",
              "      <td>NaN</td>\n",
              "      <td>NaN</td>\n",
              "      <td>excellent</td>\n",
              "      <td>gas</td>\n",
              "      <td>2016.0</td>\n",
              "      <td>f-150</td>\n",
              "      <td>0</td>\n",
              "      <td>40.5881</td>\n",
              "    </tr>\n",
              "    <tr>\n",
              "      <th>2</th>\n",
              "      <td>7554.0</td>\n",
              "      <td>NaN</td>\n",
              "      <td>automatic</td>\n",
              "      <td>white</td>\n",
              "      <td>NaN</td>\n",
              "      <td>excellent</td>\n",
              "      <td>gas</td>\n",
              "      <td>2015.0</td>\n",
              "      <td>sierra 1500</td>\n",
              "      <td>46463</td>\n",
              "      <td>40.5881</td>\n",
              "    </tr>\n",
              "    <tr>\n",
              "      <th>3</th>\n",
              "      <td>10.0</td>\n",
              "      <td>NaN</td>\n",
              "      <td>automatic</td>\n",
              "      <td>NaN</td>\n",
              "      <td>NaN</td>\n",
              "      <td>excellent</td>\n",
              "      <td>gas</td>\n",
              "      <td>2016.0</td>\n",
              "      <td>f-150</td>\n",
              "      <td>0</td>\n",
              "      <td>40.5881</td>\n",
              "    </tr>\n",
              "    <tr>\n",
              "      <th>4</th>\n",
              "      <td>70150.0</td>\n",
              "      <td>NaN</td>\n",
              "      <td>automatic</td>\n",
              "      <td>white</td>\n",
              "      <td>NaN</td>\n",
              "      <td>NaN</td>\n",
              "      <td>diesel</td>\n",
              "      <td>2018.0</td>\n",
              "      <td>f-450</td>\n",
              "      <td>49999</td>\n",
              "      <td>40.3744</td>\n",
              "    </tr>\n",
              "  </tbody>\n",
              "</table>\n",
              "</div>"
            ],
            "text/plain": [
              "   odometer    cylinders transmission  ...        model  price      lat\n",
              "0   63500.0  4 cylinders       manual  ...       golf r  17899  40.7372\n",
              "1      10.0          NaN    automatic  ...        f-150      0  40.5881\n",
              "2    7554.0          NaN    automatic  ...  sierra 1500  46463  40.5881\n",
              "3      10.0          NaN    automatic  ...        f-150      0  40.5881\n",
              "4   70150.0          NaN    automatic  ...        f-450  49999  40.3744\n",
              "\n",
              "[5 rows x 11 columns]"
            ]
          },
          "metadata": {
            "tags": []
          },
          "execution_count": 359
        }
      ]
    },
    {
      "cell_type": "code",
      "metadata": {
        "id": "s3Ma8KTOcN_H",
        "colab_type": "code",
        "outputId": "f9a88080-f4aa-45f4-fcc1-bc0c8460e478",
        "colab": {
          "base_uri": "https://localhost:8080/",
          "height": 402
        }
      },
      "source": [
        "dataset = dataset.dropna()\n",
        "dataset"
      ],
      "execution_count": 0,
      "outputs": [
        {
          "output_type": "execute_result",
          "data": {
            "text/html": [
              "<div>\n",
              "<style scoped>\n",
              "    .dataframe tbody tr th:only-of-type {\n",
              "        vertical-align: middle;\n",
              "    }\n",
              "\n",
              "    .dataframe tbody tr th {\n",
              "        vertical-align: top;\n",
              "    }\n",
              "\n",
              "    .dataframe thead th {\n",
              "        text-align: right;\n",
              "    }\n",
              "</style>\n",
              "<table border=\"1\" class=\"dataframe\">\n",
              "  <thead>\n",
              "    <tr style=\"text-align: right;\">\n",
              "      <th></th>\n",
              "      <th>odometer</th>\n",
              "      <th>cylinders</th>\n",
              "      <th>transmission</th>\n",
              "      <th>paint_color</th>\n",
              "      <th>size</th>\n",
              "      <th>condition</th>\n",
              "      <th>fuel</th>\n",
              "      <th>year</th>\n",
              "      <th>model</th>\n",
              "      <th>price</th>\n",
              "      <th>lat</th>\n",
              "    </tr>\n",
              "  </thead>\n",
              "  <tbody>\n",
              "    <tr>\n",
              "      <th>0</th>\n",
              "      <td>63500.0</td>\n",
              "      <td>4 cylinders</td>\n",
              "      <td>manual</td>\n",
              "      <td>black</td>\n",
              "      <td>compact</td>\n",
              "      <td>excellent</td>\n",
              "      <td>gas</td>\n",
              "      <td>2012.0</td>\n",
              "      <td>golf r</td>\n",
              "      <td>17899</td>\n",
              "      <td>40.7372</td>\n",
              "    </tr>\n",
              "    <tr>\n",
              "      <th>24</th>\n",
              "      <td>110982.0</td>\n",
              "      <td>4 cylinders</td>\n",
              "      <td>automatic</td>\n",
              "      <td>grey</td>\n",
              "      <td>mid-size</td>\n",
              "      <td>good</td>\n",
              "      <td>gas</td>\n",
              "      <td>2008.0</td>\n",
              "      <td>civic</td>\n",
              "      <td>4600</td>\n",
              "      <td>40.7499</td>\n",
              "    </tr>\n",
              "    <tr>\n",
              "      <th>48</th>\n",
              "      <td>67348.0</td>\n",
              "      <td>10 cylinders</td>\n",
              "      <td>automatic</td>\n",
              "      <td>white</td>\n",
              "      <td>full-size</td>\n",
              "      <td>good</td>\n",
              "      <td>gas</td>\n",
              "      <td>2004.0</td>\n",
              "      <td>f550 mechanics service</td>\n",
              "      <td>28000</td>\n",
              "      <td>40.3179</td>\n",
              "    </tr>\n",
              "    <tr>\n",
              "      <th>57</th>\n",
              "      <td>129000.0</td>\n",
              "      <td>6 cylinders</td>\n",
              "      <td>manual</td>\n",
              "      <td>blue</td>\n",
              "      <td>full-size</td>\n",
              "      <td>good</td>\n",
              "      <td>gas</td>\n",
              "      <td>2004.0</td>\n",
              "      <td>mustang</td>\n",
              "      <td>2500</td>\n",
              "      <td>41.2627</td>\n",
              "    </tr>\n",
              "    <tr>\n",
              "      <th>109</th>\n",
              "      <td>65000.0</td>\n",
              "      <td>4 cylinders</td>\n",
              "      <td>automatic</td>\n",
              "      <td>white</td>\n",
              "      <td>full-size</td>\n",
              "      <td>like new</td>\n",
              "      <td>gas</td>\n",
              "      <td>2015.0</td>\n",
              "      <td>jetta</td>\n",
              "      <td>12000</td>\n",
              "      <td>37.1790</td>\n",
              "    </tr>\n",
              "    <tr>\n",
              "      <th>...</th>\n",
              "      <td>...</td>\n",
              "      <td>...</td>\n",
              "      <td>...</td>\n",
              "      <td>...</td>\n",
              "      <td>...</td>\n",
              "      <td>...</td>\n",
              "      <td>...</td>\n",
              "      <td>...</td>\n",
              "      <td>...</td>\n",
              "      <td>...</td>\n",
              "      <td>...</td>\n",
              "    </tr>\n",
              "    <tr>\n",
              "      <th>19920</th>\n",
              "      <td>184000.0</td>\n",
              "      <td>6 cylinders</td>\n",
              "      <td>automatic</td>\n",
              "      <td>grey</td>\n",
              "      <td>full-size</td>\n",
              "      <td>excellent</td>\n",
              "      <td>gas</td>\n",
              "      <td>2006.0</td>\n",
              "      <td>trailblazer lt</td>\n",
              "      <td>3900</td>\n",
              "      <td>46.2109</td>\n",
              "    </tr>\n",
              "    <tr>\n",
              "      <th>19927</th>\n",
              "      <td>35050.0</td>\n",
              "      <td>4 cylinders</td>\n",
              "      <td>automatic</td>\n",
              "      <td>blue</td>\n",
              "      <td>mid-size</td>\n",
              "      <td>like new</td>\n",
              "      <td>gas</td>\n",
              "      <td>2017.0</td>\n",
              "      <td>impreza 2.0i sport</td>\n",
              "      <td>11995</td>\n",
              "      <td>46.2379</td>\n",
              "    </tr>\n",
              "    <tr>\n",
              "      <th>19944</th>\n",
              "      <td>4100.0</td>\n",
              "      <td>4 cylinders</td>\n",
              "      <td>automatic</td>\n",
              "      <td>green</td>\n",
              "      <td>full-size</td>\n",
              "      <td>excellent</td>\n",
              "      <td>gas</td>\n",
              "      <td>2019.0</td>\n",
              "      <td>cherokee latitude fwd</td>\n",
              "      <td>18995</td>\n",
              "      <td>46.2676</td>\n",
              "    </tr>\n",
              "    <tr>\n",
              "      <th>19952</th>\n",
              "      <td>196700.0</td>\n",
              "      <td>8 cylinders</td>\n",
              "      <td>automatic</td>\n",
              "      <td>white</td>\n",
              "      <td>full-size</td>\n",
              "      <td>excellent</td>\n",
              "      <td>diesel</td>\n",
              "      <td>2004.0</td>\n",
              "      <td>silverado 2500 hd duramax</td>\n",
              "      <td>12000</td>\n",
              "      <td>46.1871</td>\n",
              "    </tr>\n",
              "    <tr>\n",
              "      <th>19961</th>\n",
              "      <td>27415.0</td>\n",
              "      <td>4 cylinders</td>\n",
              "      <td>automatic</td>\n",
              "      <td>blue</td>\n",
              "      <td>mid-size</td>\n",
              "      <td>like new</td>\n",
              "      <td>gas</td>\n",
              "      <td>2017.0</td>\n",
              "      <td>civic ex</td>\n",
              "      <td>11500</td>\n",
              "      <td>46.2380</td>\n",
              "    </tr>\n",
              "  </tbody>\n",
              "</table>\n",
              "<p>4676 rows × 11 columns</p>\n",
              "</div>"
            ],
            "text/plain": [
              "       odometer     cylinders  ...  price      lat\n",
              "0       63500.0   4 cylinders  ...  17899  40.7372\n",
              "24     110982.0   4 cylinders  ...   4600  40.7499\n",
              "48      67348.0  10 cylinders  ...  28000  40.3179\n",
              "57     129000.0   6 cylinders  ...   2500  41.2627\n",
              "109     65000.0   4 cylinders  ...  12000  37.1790\n",
              "...         ...           ...  ...    ...      ...\n",
              "19920  184000.0   6 cylinders  ...   3900  46.2109\n",
              "19927   35050.0   4 cylinders  ...  11995  46.2379\n",
              "19944    4100.0   4 cylinders  ...  18995  46.2676\n",
              "19952  196700.0   8 cylinders  ...  12000  46.1871\n",
              "19961   27415.0   4 cylinders  ...  11500  46.2380\n",
              "\n",
              "[4676 rows x 11 columns]"
            ]
          },
          "metadata": {
            "tags": []
          },
          "execution_count": 360
        }
      ]
    },
    {
      "cell_type": "code",
      "metadata": {
        "id": "95VriY5Zz6NS",
        "colab_type": "code",
        "outputId": "735f472b-012f-424d-a249-8197dd4184a3",
        "colab": {
          "base_uri": "https://localhost:8080/",
          "height": 166
        }
      },
      "source": [
        "dataset.describe().T"
      ],
      "execution_count": 0,
      "outputs": [
        {
          "output_type": "execute_result",
          "data": {
            "text/html": [
              "<div>\n",
              "<style scoped>\n",
              "    .dataframe tbody tr th:only-of-type {\n",
              "        vertical-align: middle;\n",
              "    }\n",
              "\n",
              "    .dataframe tbody tr th {\n",
              "        vertical-align: top;\n",
              "    }\n",
              "\n",
              "    .dataframe thead th {\n",
              "        text-align: right;\n",
              "    }\n",
              "</style>\n",
              "<table border=\"1\" class=\"dataframe\">\n",
              "  <thead>\n",
              "    <tr style=\"text-align: right;\">\n",
              "      <th></th>\n",
              "      <th>count</th>\n",
              "      <th>mean</th>\n",
              "      <th>std</th>\n",
              "      <th>min</th>\n",
              "      <th>25%</th>\n",
              "      <th>50%</th>\n",
              "      <th>75%</th>\n",
              "      <th>max</th>\n",
              "    </tr>\n",
              "  </thead>\n",
              "  <tbody>\n",
              "    <tr>\n",
              "      <th>odometer</th>\n",
              "      <td>4676.0</td>\n",
              "      <td>115833.095808</td>\n",
              "      <td>8.544976e+04</td>\n",
              "      <td>0.0000</td>\n",
              "      <td>72304.0000</td>\n",
              "      <td>114220.50000</td>\n",
              "      <td>151000.0000</td>\n",
              "      <td>2.500005e+06</td>\n",
              "    </tr>\n",
              "    <tr>\n",
              "      <th>year</th>\n",
              "      <td>4676.0</td>\n",
              "      <td>2008.298760</td>\n",
              "      <td>7.951802e+00</td>\n",
              "      <td>1917.0000</td>\n",
              "      <td>2005.0000</td>\n",
              "      <td>2009.00000</td>\n",
              "      <td>2013.0000</td>\n",
              "      <td>2.020000e+03</td>\n",
              "    </tr>\n",
              "    <tr>\n",
              "      <th>price</th>\n",
              "      <td>4676.0</td>\n",
              "      <td>37003.133661</td>\n",
              "      <td>1.805288e+06</td>\n",
              "      <td>0.0000</td>\n",
              "      <td>4498.7500</td>\n",
              "      <td>7500.00000</td>\n",
              "      <td>14491.7500</td>\n",
              "      <td>1.234568e+08</td>\n",
              "    </tr>\n",
              "    <tr>\n",
              "      <th>lat</th>\n",
              "      <td>4676.0</td>\n",
              "      <td>39.926599</td>\n",
              "      <td>3.731324e+00</td>\n",
              "      <td>12.6231</td>\n",
              "      <td>37.2724</td>\n",
              "      <td>38.16205</td>\n",
              "      <td>44.1945</td>\n",
              "      <td>5.303240e+01</td>\n",
              "    </tr>\n",
              "  </tbody>\n",
              "</table>\n",
              "</div>"
            ],
            "text/plain": [
              "           count           mean  ...          75%           max\n",
              "odometer  4676.0  115833.095808  ...  151000.0000  2.500005e+06\n",
              "year      4676.0    2008.298760  ...    2013.0000  2.020000e+03\n",
              "price     4676.0   37003.133661  ...   14491.7500  1.234568e+08\n",
              "lat       4676.0      39.926599  ...      44.1945  5.303240e+01\n",
              "\n",
              "[4 rows x 8 columns]"
            ]
          },
          "metadata": {
            "tags": []
          },
          "execution_count": 361
        }
      ]
    },
    {
      "cell_type": "code",
      "metadata": {
        "id": "gnzHLPvl0NM3",
        "colab_type": "code",
        "outputId": "ff5387f7-5477-4bde-a758-0f8663b38997",
        "colab": {
          "base_uri": "https://localhost:8080/",
          "height": 319
        }
      },
      "source": [
        "dataset.info()"
      ],
      "execution_count": 0,
      "outputs": [
        {
          "output_type": "stream",
          "text": [
            "<class 'pandas.core.frame.DataFrame'>\n",
            "Int64Index: 4676 entries, 0 to 19961\n",
            "Data columns (total 11 columns):\n",
            " #   Column        Non-Null Count  Dtype  \n",
            "---  ------        --------------  -----  \n",
            " 0   odometer      4676 non-null   float64\n",
            " 1   cylinders     4676 non-null   object \n",
            " 2   transmission  4676 non-null   object \n",
            " 3   paint_color   4676 non-null   object \n",
            " 4   size          4676 non-null   object \n",
            " 5   condition     4676 non-null   object \n",
            " 6   fuel          4676 non-null   object \n",
            " 7   year          4676 non-null   float64\n",
            " 8   model         4676 non-null   object \n",
            " 9   price         4676 non-null   int64  \n",
            " 10  lat           4676 non-null   float64\n",
            "dtypes: float64(3), int64(1), object(7)\n",
            "memory usage: 438.4+ KB\n"
          ],
          "name": "stdout"
        }
      ]
    },
    {
      "cell_type": "code",
      "metadata": {
        "id": "sjRXKjBTbYPc",
        "colab_type": "code",
        "outputId": "d57eea77-cad3-4feb-9a1a-dc72061734c0",
        "colab": {
          "base_uri": "https://localhost:8080/",
          "height": 218
        }
      },
      "source": [
        "dataset.isna().sum()"
      ],
      "execution_count": 0,
      "outputs": [
        {
          "output_type": "execute_result",
          "data": {
            "text/plain": [
              "odometer        0\n",
              "cylinders       0\n",
              "transmission    0\n",
              "paint_color     0\n",
              "size            0\n",
              "condition       0\n",
              "fuel            0\n",
              "year            0\n",
              "model           0\n",
              "price           0\n",
              "lat             0\n",
              "dtype: int64"
            ]
          },
          "metadata": {
            "tags": []
          },
          "execution_count": 363
        }
      ]
    },
    {
      "cell_type": "code",
      "metadata": {
        "id": "eUQF67D4b2fS",
        "colab_type": "code",
        "outputId": "b6628be9-230b-4e32-e886-dfbd6f3e98ee",
        "colab": {
          "base_uri": "https://localhost:8080/",
          "height": 261
        }
      },
      "source": [
        "plt.subplots(figsize=(15,10))\n",
        "plt.subplot(321)\n",
        "dataset.odometer.value_counts(100).plot(kind='bar', title=\"Perbandingan Odometer\", fontsize=18)\n",
        "plt.xticks(rotation=0, fontsize=12)\n",
        "plt.yticks(rotation=0, fontsize=12)\n"
      ],
      "execution_count": 0,
      "outputs": [
        {
          "output_type": "execute_result",
          "data": {
            "text/plain": [
              "(array([0.   , 0.001, 0.002, 0.003, 0.004, 0.005, 0.006]),\n",
              " <a list of 7 Text major ticklabel objects>)"
            ]
          },
          "metadata": {
            "tags": []
          },
          "execution_count": 364
        },
        {
          "output_type": "display_data",
          "data": {
            "image/png": "[encoded data removed]",
            "text/plain": [
              "<Figure size 1080x720 with 1 Axes>"
            ]
          },
          "metadata": {
            "tags": [],
            "needs_background": "light"
          }
        }
      ]
    },
    {
      "cell_type": "code",
      "metadata": {
        "id": "QS9ei_Y5c3YW",
        "colab_type": "code",
        "outputId": "e289e98e-1e82-4e9d-eecb-09d371fe0b99",
        "colab": {
          "base_uri": "https://localhost:8080/",
          "height": 261
        }
      },
      "source": [
        "plt.subplots(figsize=(15,10))\n",
        "plt.subplot(323)\n",
        "dataset.fuel.value_counts(100).plot(kind='bar', title='Perbandingan bahan bakar', fontsize=18)\n",
        "plt.xticks(rotation=0, fontsize=12)\n",
        "plt.yticks(rotation=0, fontsize=12)"
      ],
      "execution_count": 0,
      "outputs": [
        {
          "output_type": "execute_result",
          "data": {
            "text/plain": [
              "(array([0. , 0.2, 0.4, 0.6, 0.8, 1. ]),\n",
              " <a list of 6 Text major ticklabel objects>)"
            ]
          },
          "metadata": {
            "tags": []
          },
          "execution_count": 365
        },
        {
          "output_type": "display_data",
          "data": {
            "image/png": "[encoded data removed]",
            "text/plain": [
              "<Figure size 1080x720 with 1 Axes>"
            ]
          },
          "metadata": {
            "tags": [],
            "needs_background": "light"
          }
        }
      ]
    },
    {
      "cell_type": "code",
      "metadata": {
        "id": "zZUg1cfJeROr",
        "colab_type": "code",
        "outputId": "5e2a4aff-3690-437f-9f21-63cfc63bd8e8",
        "colab": {
          "base_uri": "https://localhost:8080/",
          "height": 261
        }
      },
      "source": [
        "plt.subplots(figsize=(15,10))\n",
        "plt.subplot(323)\n",
        "dataset.year.value_counts(100).plot(kind='bar', title='Perbandingan tahun', fontsize=18)\n",
        "plt.xticks(rotation=0, fontsize=12)\n",
        "plt.yticks(rotation=0, fontsize=12)"
      ],
      "execution_count": 0,
      "outputs": [
        {
          "output_type": "execute_result",
          "data": {
            "text/plain": [
              "(array([0.  , 0.02, 0.04, 0.06, 0.08]),\n",
              " <a list of 5 Text major ticklabel objects>)"
            ]
          },
          "metadata": {
            "tags": []
          },
          "execution_count": 366
        },
        {
          "output_type": "display_data",
          "data": {
            "image/png": "[encoded data removed]",
            "text/plain": [
              "<Figure size 1080x720 with 1 Axes>"
            ]
          },
          "metadata": {
            "tags": [],
            "needs_background": "light"
          }
        }
      ]
    },
    {
      "cell_type": "code",
      "metadata": {
        "id": "gVZqNKjZeuby",
        "colab_type": "code",
        "outputId": "f6ba0340-3eff-487d-dfaf-38c3a96f2477",
        "colab": {
          "base_uri": "https://localhost:8080/",
          "height": 261
        }
      },
      "source": [
        "plt.subplots(figsize=(15,10))\n",
        "plt.subplot(323)\n",
        "dataset.paint_color.value_counts(100).plot(kind='bar', title='Perbandingan warna cat', fontsize=18)\n",
        "plt.xticks(rotation=0, fontsize=12)\n",
        "plt.yticks(rotation=0, fontsize=12)"
      ],
      "execution_count": 0,
      "outputs": [
        {
          "output_type": "execute_result",
          "data": {
            "text/plain": [
              "(array([0.  , 0.05, 0.1 , 0.15, 0.2 , 0.25]),\n",
              " <a list of 6 Text major ticklabel objects>)"
            ]
          },
          "metadata": {
            "tags": []
          },
          "execution_count": 367
        },
        {
          "output_type": "display_data",
          "data": {
            "image/png": "[encoded data removed]",
            "text/plain": [
              "<Figure size 1080x720 with 1 Axes>"
            ]
          },
          "metadata": {
            "tags": [],
            "needs_background": "light"
          }
        }
      ]
    },
    {
      "cell_type": "code",
      "metadata": {
        "id": "BPrRb_wzfLyA",
        "colab_type": "code",
        "outputId": "83d4deae-bc04-448c-c404-f9be5a1dec22",
        "colab": {
          "base_uri": "https://localhost:8080/",
          "height": 297
        }
      },
      "source": [
        "sns.scatterplot(x='paint_color', y='year', data=dataset)"
      ],
      "execution_count": 0,
      "outputs": [
        {
          "output_type": "execute_result",
          "data": {
            "text/plain": [
              "<matplotlib.axes._subplots.AxesSubplot at 0x7fc24f41c0b8>"
            ]
          },
          "metadata": {
            "tags": []
          },
          "execution_count": 368
        },
        {
          "output_type": "display_data",
          "data": {
            "image/png": "[encoded data removed]",
            "text/plain": [
              "<Figure size 432x288 with 1 Axes>"
            ]
          },
          "metadata": {
            "tags": [],
            "needs_background": "light"
          }
        }
      ]
    },
    {
      "cell_type": "code",
      "metadata": {
        "id": "YNQLLpUn0RbJ",
        "colab_type": "code",
        "outputId": "efabf7ed-c9af-4e26-eee8-beaffdd1a0cf",
        "colab": {
          "base_uri": "https://localhost:8080/",
          "height": 296
        }
      },
      "source": [
        "sns.scatterplot(x='odometer', y='year', data=dataset)"
      ],
      "execution_count": 0,
      "outputs": [
        {
          "output_type": "execute_result",
          "data": {
            "text/plain": [
              "<matplotlib.axes._subplots.AxesSubplot at 0x7fc24c7a4fd0>"
            ]
          },
          "metadata": {
            "tags": []
          },
          "execution_count": 369
        },
        {
          "output_type": "display_data",
          "data": {
            "image/png": "[encoded data removed]",
            "text/plain": [
              "<Figure size 432x288 with 1 Axes>"
            ]
          },
          "metadata": {
            "tags": [],
            "needs_background": "light"
          }
        }
      ]
    },
    {
      "cell_type": "code",
      "metadata": {
        "id": "2OHn7oMpjVCM",
        "colab_type": "code",
        "outputId": "9d68a548-636d-4fa6-e2ad-d5ddd391bb64",
        "colab": {
          "base_uri": "https://localhost:8080/",
          "height": 375
        }
      },
      "source": [
        "plt.subplots(figsize=(20,12))\n",
        "plt.subplot(221)\n",
        "sns.scatterplot(x=dataset.fuel, y=dataset.year, hue=dataset.paint_color)"
      ],
      "execution_count": 0,
      "outputs": [
        {
          "output_type": "execute_result",
          "data": {
            "text/plain": [
              "<matplotlib.axes._subplots.AxesSubplot at 0x7fc24bf67828>"
            ]
          },
          "metadata": {
            "tags": []
          },
          "execution_count": 370
        },
        {
          "output_type": "display_data",
          "data": {
            "image/png": "[encoded data removed]",
            "text/plain": [
              "<Figure size 1440x864 with 1 Axes>"
            ]
          },
          "metadata": {
            "tags": [],
            "needs_background": "light"
          }
        }
      ]
    },
    {
      "cell_type": "code",
      "metadata": {
        "id": "HBKLUcuizbQU",
        "colab_type": "code",
        "outputId": "f2385558-f996-41f6-eb39-ec4a285042fd",
        "colab": {
          "base_uri": "https://localhost:8080/",
          "height": 296
        }
      },
      "source": [
        "sns.scatterplot(x='lat', y='year', data=dataset)"
      ],
      "execution_count": 0,
      "outputs": [
        {
          "output_type": "execute_result",
          "data": {
            "text/plain": [
              "<matplotlib.axes._subplots.AxesSubplot at 0x7fc24bd81400>"
            ]
          },
          "metadata": {
            "tags": []
          },
          "execution_count": 371
        },
        {
          "output_type": "display_data",
          "data": {
            "image/png": "[encoded data removed]",
            "text/plain": [
              "<Figure size 432x288 with 1 Axes>"
            ]
          },
          "metadata": {
            "tags": [],
            "needs_background": "light"
          }
        }
      ]
    },
    {
      "cell_type": "markdown",
      "metadata": {
        "id": "MwyxyizyBWc7",
        "colab_type": "text"
      },
      "source": [
        "Pembuatan centroid dengan K = 3"
      ]
    },
    {
      "cell_type": "code",
      "metadata": {
        "id": "gQvMYKs3pl_H",
        "colab_type": "code",
        "outputId": "65f118c4-c833-47cb-99bb-ef9bfb0997e8",
        "colab": {
          "base_uri": "https://localhost:8080/",
          "height": 136
        }
      },
      "source": [
        "centro = [\n",
        "    [0, 0, '0'],\n",
        "    [0, 0, '1'],\n",
        "    [0, 0, '2'],\n",
        "]\n",
        "# buat menjadi dataframe\n",
        "centroid = pd.DataFrame(centro, columns=['odometer', 'year', 'cluster'])\n",
        "\n",
        "odometer = []\n",
        "year = []\n",
        "x0 = np.random.randint(min(dataset['odometer']),max(dataset['odometer']))\n",
        "y0 = np.random.randint(min(dataset['year']),max(dataset['year']))\n",
        "x1 = np.random.randint(min(dataset['odometer']),max(dataset['odometer']))\n",
        "y1 = np.random.randint(min(dataset['year']),max(dataset['year']))\n",
        "x2 = np.random.randint(min(dataset['odometer']),max(dataset['odometer']))\n",
        "y2 = np.random.randint(min(dataset['year']),max(dataset['year']))\n",
        "\n",
        "odometer.append(x0)\n",
        "odometer.append(x1)\n",
        "odometer.append(x2)\n",
        "year.append(y0)\n",
        "year.append(y1)\n",
        "year.append(y2)\n",
        "\n",
        "centroid['odometer'] =odometer\n",
        "centroid['year'] = year\n",
        "centroid"
      ],
      "execution_count": 0,
      "outputs": [
        {
          "output_type": "execute_result",
          "data": {
            "text/html": [
              "<div>\n",
              "<style scoped>\n",
              "    .dataframe tbody tr th:only-of-type {\n",
              "        vertical-align: middle;\n",
              "    }\n",
              "\n",
              "    .dataframe tbody tr th {\n",
              "        vertical-align: top;\n",
              "    }\n",
              "\n",
              "    .dataframe thead th {\n",
              "        text-align: right;\n",
              "    }\n",
              "</style>\n",
              "<table border=\"1\" class=\"dataframe\">\n",
              "  <thead>\n",
              "    <tr style=\"text-align: right;\">\n",
              "      <th></th>\n",
              "      <th>odometer</th>\n",
              "      <th>year</th>\n",
              "      <th>cluster</th>\n",
              "    </tr>\n",
              "  </thead>\n",
              "  <tbody>\n",
              "    <tr>\n",
              "      <th>0</th>\n",
              "      <td>460256</td>\n",
              "      <td>1944</td>\n",
              "      <td>0</td>\n",
              "    </tr>\n",
              "    <tr>\n",
              "      <th>1</th>\n",
              "      <td>439120</td>\n",
              "      <td>1965</td>\n",
              "      <td>1</td>\n",
              "    </tr>\n",
              "    <tr>\n",
              "      <th>2</th>\n",
              "      <td>1856355</td>\n",
              "      <td>2011</td>\n",
              "      <td>2</td>\n",
              "    </tr>\n",
              "  </tbody>\n",
              "</table>\n",
              "</div>"
            ],
            "text/plain": [
              "   odometer  year cluster\n",
              "0    460256  1944       0\n",
              "1    439120  1965       1\n",
              "2   1856355  2011       2"
            ]
          },
          "metadata": {
            "tags": []
          },
          "execution_count": 372
        }
      ]
    },
    {
      "cell_type": "markdown",
      "metadata": {
        "id": "VaDQGt7wBt7Z",
        "colab_type": "text"
      },
      "source": [
        "Penentuan centroid di awal akan mempengaruhi hasil akhir dari clustering"
      ]
    },
    {
      "cell_type": "markdown",
      "metadata": {
        "id": "n-6en-MdBzLg",
        "colab_type": "text"
      },
      "source": [
        "Mengimplementasikan centroid sesuai pada titiknya"
      ]
    },
    {
      "cell_type": "code",
      "metadata": {
        "id": "ugTJAYiP8rj9",
        "colab_type": "code",
        "outputId": "3abdb3f2-e44f-4a62-c839-b2a20524fe32",
        "colab": {
          "base_uri": "https://localhost:8080/",
          "height": 296
        }
      },
      "source": [
        "sns.scatterplot(x='odometer', y='year', hue='cluster', data=dataset.append(centroid))"
      ],
      "execution_count": 0,
      "outputs": [
        {
          "output_type": "execute_result",
          "data": {
            "text/plain": [
              "<matplotlib.axes._subplots.AxesSubplot at 0x7fc24bce0358>"
            ]
          },
          "metadata": {
            "tags": []
          },
          "execution_count": 373
        },
        {
          "output_type": "display_data",
          "data": {
            "image/png": "[encoded data removed]",
            "text/plain": [
              "<Figure size 432x288 with 1 Axes>"
            ]
          },
          "metadata": {
            "tags": [],
            "needs_background": "light"
          }
        }
      ]
    },
    {
      "cell_type": "markdown",
      "metadata": {
        "id": "kNEscC7dCDuX",
        "colab_type": "text"
      },
      "source": [
        "Jika terdapat cluster yang beda, sebagai contoh cluster -1 berarti belum masuk diantara cluster yang ada"
      ]
    },
    {
      "cell_type": "markdown",
      "metadata": {
        "id": "4Qm3-x0ACSEU",
        "colab_type": "text"
      },
      "source": [
        "Pembuatan data untuk pergantian centroid"
      ]
    },
    {
      "cell_type": "code",
      "metadata": {
        "id": "KL99mx3D81vi",
        "colab_type": "code",
        "outputId": "a36babf0-8e63-404e-ed6d-4843d027ceeb",
        "colab": {
          "base_uri": "https://localhost:8080/",
          "height": 136
        }
      },
      "source": [
        "update = [\n",
        "    [0, 0, '0'],\n",
        "    [0, 0, '1'],\n",
        "    [0, 0, '2'],\n",
        "]\n",
        "\n",
        "# buat menjadi dataframe\n",
        "NewCentroid = pd.DataFrame(update, columns=['odometer', 'year', 'cluster'])\n",
        "NewCentroid"
      ],
      "execution_count": 0,
      "outputs": [
        {
          "output_type": "execute_result",
          "data": {
            "text/html": [
              "<div>\n",
              "<style scoped>\n",
              "    .dataframe tbody tr th:only-of-type {\n",
              "        vertical-align: middle;\n",
              "    }\n",
              "\n",
              "    .dataframe tbody tr th {\n",
              "        vertical-align: top;\n",
              "    }\n",
              "\n",
              "    .dataframe thead th {\n",
              "        text-align: right;\n",
              "    }\n",
              "</style>\n",
              "<table border=\"1\" class=\"dataframe\">\n",
              "  <thead>\n",
              "    <tr style=\"text-align: right;\">\n",
              "      <th></th>\n",
              "      <th>odometer</th>\n",
              "      <th>year</th>\n",
              "      <th>cluster</th>\n",
              "    </tr>\n",
              "  </thead>\n",
              "  <tbody>\n",
              "    <tr>\n",
              "      <th>0</th>\n",
              "      <td>0</td>\n",
              "      <td>0</td>\n",
              "      <td>0</td>\n",
              "    </tr>\n",
              "    <tr>\n",
              "      <th>1</th>\n",
              "      <td>0</td>\n",
              "      <td>0</td>\n",
              "      <td>1</td>\n",
              "    </tr>\n",
              "    <tr>\n",
              "      <th>2</th>\n",
              "      <td>0</td>\n",
              "      <td>0</td>\n",
              "      <td>2</td>\n",
              "    </tr>\n",
              "  </tbody>\n",
              "</table>\n",
              "</div>"
            ],
            "text/plain": [
              "   odometer  year cluster\n",
              "0         0     0       0\n",
              "1         0     0       1\n",
              "2         0     0       2"
            ]
          },
          "metadata": {
            "tags": []
          },
          "execution_count": 374
        }
      ]
    },
    {
      "cell_type": "markdown",
      "metadata": {
        "id": "p6HiqX99CdmY",
        "colab_type": "text"
      },
      "source": [
        "Proses clustering dan perubahan titik centroid dilakukan hingga posisi titik centroid sudah tidak berpindah lagi"
      ]
    },
    {
      "cell_type": "code",
      "metadata": {
        "id": "soFdmncZ9Mds",
        "colab_type": "code",
        "outputId": "517482ab-42a4-473c-fd28-da41d968adc0",
        "colab": {
          "base_uri": "https://localhost:8080/",
          "height": 296
        }
      },
      "source": [
        "sns.scatterplot(x='odometer', y='year', hue='cluster', data=dataset.append(centroid))"
      ],
      "execution_count": 0,
      "outputs": [
        {
          "output_type": "execute_result",
          "data": {
            "text/plain": [
              "<matplotlib.axes._subplots.AxesSubplot at 0x7fc24f3dc9e8>"
            ]
          },
          "metadata": {
            "tags": []
          },
          "execution_count": 375
        },
        {
          "output_type": "display_data",
          "data": {
            "image/png": "[encoded data removed]",
            "text/plain": [
              "<Figure size 432x288 with 1 Axes>"
            ]
          },
          "metadata": {
            "tags": [],
            "needs_background": "light"
          }
        }
      ]
    },
    {
      "cell_type": "code",
      "metadata": {
        "id": "8Gph1fkuO6T1",
        "colab_type": "code",
        "colab": {}
      },
      "source": [
        "beda = True\n",
        "j = 1\n",
        "while (beda is True): #akan melakukan looping selama \"beda \" bernilai True (titik centroid sudah tidak berubah)\n",
        "    clusterr = []\n",
        "    baru  = []\n",
        "\n",
        "    x02, y02 = centroid.iloc[0][['odometer', 'year']] #mengambil titik Centroid ke 0\n",
        "    x12, y12 = centroid.iloc[1][['odometer', 'year']] #mengambil titik Centroid ke 1\n",
        "    x22, y22 = centroid.iloc[2][['odometer', 'year']] #mengambil titik Centroid ke 2\n",
        "\n",
        "    #mencari centroid terdekat dengan setiap titik\n",
        "    for i in range(len(dataset)):\n",
        "        x1, y1 = dataset.iloc[i][['odometer', 'year']] #mengambil titik untuk setiap data pada dataset\n",
        "\n",
        "        # euclidean distant\n",
        "        dist0 = ((x02-x1)**2 + (y02-y1)**2)**0.5 \n",
        "        dist1 = ((x12-x1)**2 + (y12-y1)**2)**0.5\n",
        "        dist2 = ((x22-x1)**2 + (y22-y1)**2)**0.5\n",
        "\n",
        "        if (dist0 < dist1) and (dist0 < dist2): #jika nilai dist0 paling kecil, cluster = 0\n",
        "            hasil = '0'\n",
        "        elif  (dist1 < dist0) and (dist1 < dist2): #jika nilai dist1 paling kecil, cluster = 1\n",
        "            hasil = '1'\n",
        "        elif  (dist2 < dist0) and (dist2 < dist1): #jika nilai dist2 paling kecil, cluster = 2\n",
        "            hasil = '2'\n",
        "        clusterr.append(hasil) #append hadil cluster tadi ke list clusterr\n",
        "\n",
        "    dataset['cluster'] = clusterr #ganti kolom 'cluster' pada dataset dengan list clusterr tadi\n",
        "    \n",
        "    #Update centroid\n",
        "    x0 = dataset[dataset['cluster'] == '0']['odometer'].tolist() #mengambil semua nilai pada kolom 'odometer' yang cluster nya 0\n",
        "    y0 = dataset[dataset['cluster'] == '0']['year'].tolist() #mengambil semua nilai pada kolom 'year' yang cluster nya 0\n",
        "    \n",
        "    #menghitung mean untuk nilai baru dari centroid 0\n",
        "    if ((x0)and(y0) != 0) :\n",
        "      mean_x0 = sum(x0) / len(x0)\n",
        "      mean_y0 = sum(y0) / len(y0)\n",
        "    else :\n",
        "      mean_x0 = 0\n",
        "      mean_y0 = 0\n",
        "    \n",
        "\n",
        "    x1 = dataset[dataset['cluster'] == '1']['odometer'].tolist() #mengambil semua nilai pada kolom 'odometer' yang cluster nya 1\n",
        "    y1 = dataset[dataset['cluster'] == '1']['year'].tolist() #mengambil semua nilai pada kolom 'year' yang cluster nya 1\n",
        "    \n",
        "    #menghitung mean untuk nilai baru dari centroid 1\n",
        "    if ((x1)and(y1) != 0) :\n",
        "      mean_x1 = sum(x1) / len(x1)\n",
        "      mean_y1 = sum(y1) / len(y1)\n",
        "    else :\n",
        "      mean_x1 = 0\n",
        "      mean_y1 = 0\n",
        "\n",
        "    x2 = dataset[dataset['cluster'] == '2']['odometer'].tolist() #mengambil semua nilai pada kolom 'odometer' yang cluster nya 2\n",
        "    y2 = dataset[dataset['cluster'] == '2']['year'].tolist() #mengambil semua nilai pada kolom 'year' yang cluster nya 2\n",
        "    \n",
        "    #menghitung mean untuk nilai baru dari centroid 2\n",
        "    if ((x2)and(y2) != 0) :\n",
        "      mean_x2 = sum(x2) / len(x2)\n",
        "      mean_y2 = sum(y2) / len(y2)\n",
        "    else :\n",
        "      mean_x2 = 0\n",
        "      mean_y2 = 0\n",
        "\n",
        "    #mengganti nilai centroid baru dengan mean yang sudah dihitung \n",
        "    NewCentroid.iloc[0,0] = mean_x0\n",
        "    NewCentroid.iloc[0,1] = mean_y0\n",
        "    NewCentroid.iloc[1,0] = mean_x1\n",
        "    NewCentroid.iloc[1,1] = mean_y1\n",
        "    NewCentroid.iloc[2,0] = mean_x2\n",
        "    NewCentroid.iloc[2,1] = mean_y2\n",
        "\n",
        "    if (NewCentroid.iloc[0,:2].all() != centroid.iloc[0,:2].all()): #jika kolom odometer dan year pada centroid baru dan centroid beda (centroid berpindah)\n",
        "        #mengganti nilai centroid dengan centroid baru dan mengganti nilai centroid baru (disini saya hanya menukar nilai centroid dan centroid baru)\n",
        "        centroid,NewCentroid = NewCentroid, centroid \n",
        "    else: #jika centroid dan centroid baru sama (centroid tidak berpindah)\n",
        "        notSame = False #notSame berubah jadi False agar loop berhenti"
      ],
      "execution_count": 0,
      "outputs": []
    },
    {
      "cell_type": "code",
      "metadata": {
        "id": "gtJvnpREFuFV",
        "colab_type": "code",
        "outputId": "bc6544fb-9f74-40af-bb6b-f6fb0afbc6f9",
        "colab": {
          "base_uri": "https://localhost:8080/",
          "height": 136
        }
      },
      "source": [
        "NewCentroid "
      ],
      "execution_count": 0,
      "outputs": [
        {
          "output_type": "execute_result",
          "data": {
            "text/html": [
              "<div>\n",
              "<style scoped>\n",
              "    .dataframe tbody tr th:only-of-type {\n",
              "        vertical-align: middle;\n",
              "    }\n",
              "\n",
              "    .dataframe tbody tr th {\n",
              "        vertical-align: top;\n",
              "    }\n",
              "\n",
              "    .dataframe thead th {\n",
              "        text-align: right;\n",
              "    }\n",
              "</style>\n",
              "<table border=\"1\" class=\"dataframe\">\n",
              "  <thead>\n",
              "    <tr style=\"text-align: right;\">\n",
              "      <th></th>\n",
              "      <th>odometer</th>\n",
              "      <th>year</th>\n",
              "      <th>cluster</th>\n",
              "    </tr>\n",
              "  </thead>\n",
              "  <tbody>\n",
              "    <tr>\n",
              "      <th>0</th>\n",
              "      <td>7.761637e+05</td>\n",
              "      <td>1997.000000</td>\n",
              "      <td>0</td>\n",
              "    </tr>\n",
              "    <tr>\n",
              "      <th>1</th>\n",
              "      <td>1.135641e+05</td>\n",
              "      <td>2008.311697</td>\n",
              "      <td>1</td>\n",
              "    </tr>\n",
              "    <tr>\n",
              "      <th>2</th>\n",
              "      <td>1.837991e+06</td>\n",
              "      <td>2003.000000</td>\n",
              "      <td>2</td>\n",
              "    </tr>\n",
              "  </tbody>\n",
              "</table>\n",
              "</div>"
            ],
            "text/plain": [
              "       odometer         year cluster\n",
              "0  7.761637e+05  1997.000000       0\n",
              "1  1.135641e+05  2008.311697       1\n",
              "2  1.837991e+06  2003.000000       2"
            ]
          },
          "metadata": {
            "tags": []
          },
          "execution_count": 379
        }
      ]
    },
    {
      "cell_type": "code",
      "metadata": {
        "id": "upx6QneZGf5b",
        "colab_type": "code",
        "outputId": "0125ffe1-85ed-40a8-dff5-5504a2c2ec0c",
        "colab": {
          "base_uri": "https://localhost:8080/",
          "height": 296
        }
      },
      "source": [
        "sns.scatterplot(x='odometer', y='year', hue='cluster', data=dataset.append(centroid))"
      ],
      "execution_count": 0,
      "outputs": [
        {
          "output_type": "execute_result",
          "data": {
            "text/plain": [
              "<matplotlib.axes._subplots.AxesSubplot at 0x7fc24bbae358>"
            ]
          },
          "metadata": {
            "tags": []
          },
          "execution_count": 378
        },
        {
          "output_type": "display_data",
          "data": {
            "image/png": "[encoded data removed]",
            "text/plain": [
              "<Figure size 432x288 with 1 Axes>"
            ]
          },
          "metadata": {
            "tags": [],
            "needs_background": "light"
          }
        }
      ]
    }
  ]
}